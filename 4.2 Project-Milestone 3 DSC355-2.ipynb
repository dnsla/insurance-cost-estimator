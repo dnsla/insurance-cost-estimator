{
 "cells": [
  {
   "cell_type": "markdown",
   "id": "dda4cfb0-c7ed-4390-b297-a8f5a51122b2",
   "metadata": {},
   "source": [
    "Importing necessary libraries for data manipulation and normalization. Importing Pandas to load and work with the data, and MinMaxScaler to scale numeric features later on. This step sets up what I need to clean, transform, and prepare the insurance data for modeling."
   ]
  },
  {
   "cell_type": "code",
   "execution_count": 4,
   "id": "32f9b4bc-cfbd-4306-bec2-c9710ebaa879",
   "metadata": {},
   "outputs": [],
   "source": [
    "#importing required libraries\n",
    "import pandas as pd\n",
    "from sklearn.preprocessing import MinMaxScaler"
   ]
  },
  {
   "cell_type": "markdown",
   "id": "9c230fb2-2b79-421d-862f-46a033c789a8",
   "metadata": {},
   "source": [
    "Loading the insurance dataset from a CSV file and showing the first few rows to make sure the data loaded correctly and to see what columns and values I’m working with. This helps me confirm that there are no obvious issues before I start transforming the data."
   ]
  },
  {
   "cell_type": "code",
   "execution_count": 7,
   "id": "7d5370c5-2a4a-41e2-907e-f20a36f2ed23",
   "metadata": {},
   "outputs": [
    {
     "data": {
      "text/html": [
       "<div>\n",
       "<style scoped>\n",
       "    .dataframe tbody tr th:only-of-type {\n",
       "        vertical-align: middle;\n",
       "    }\n",
       "\n",
       "    .dataframe tbody tr th {\n",
       "        vertical-align: top;\n",
       "    }\n",
       "\n",
       "    .dataframe thead th {\n",
       "        text-align: right;\n",
       "    }\n",
       "</style>\n",
       "<table border=\"1\" class=\"dataframe\">\n",
       "  <thead>\n",
       "    <tr style=\"text-align: right;\">\n",
       "      <th></th>\n",
       "      <th>age</th>\n",
       "      <th>sex</th>\n",
       "      <th>bmi</th>\n",
       "      <th>children</th>\n",
       "      <th>smoker</th>\n",
       "      <th>region</th>\n",
       "      <th>charges</th>\n",
       "    </tr>\n",
       "  </thead>\n",
       "  <tbody>\n",
       "    <tr>\n",
       "      <th>0</th>\n",
       "      <td>19</td>\n",
       "      <td>female</td>\n",
       "      <td>27.900</td>\n",
       "      <td>0</td>\n",
       "      <td>yes</td>\n",
       "      <td>southwest</td>\n",
       "      <td>16884.92400</td>\n",
       "    </tr>\n",
       "    <tr>\n",
       "      <th>1</th>\n",
       "      <td>18</td>\n",
       "      <td>male</td>\n",
       "      <td>33.770</td>\n",
       "      <td>1</td>\n",
       "      <td>no</td>\n",
       "      <td>southeast</td>\n",
       "      <td>1725.55230</td>\n",
       "    </tr>\n",
       "    <tr>\n",
       "      <th>2</th>\n",
       "      <td>28</td>\n",
       "      <td>male</td>\n",
       "      <td>33.000</td>\n",
       "      <td>3</td>\n",
       "      <td>no</td>\n",
       "      <td>southeast</td>\n",
       "      <td>4449.46200</td>\n",
       "    </tr>\n",
       "    <tr>\n",
       "      <th>3</th>\n",
       "      <td>33</td>\n",
       "      <td>male</td>\n",
       "      <td>22.705</td>\n",
       "      <td>0</td>\n",
       "      <td>no</td>\n",
       "      <td>northwest</td>\n",
       "      <td>21984.47061</td>\n",
       "    </tr>\n",
       "    <tr>\n",
       "      <th>4</th>\n",
       "      <td>32</td>\n",
       "      <td>male</td>\n",
       "      <td>28.880</td>\n",
       "      <td>0</td>\n",
       "      <td>no</td>\n",
       "      <td>northwest</td>\n",
       "      <td>3866.85520</td>\n",
       "    </tr>\n",
       "  </tbody>\n",
       "</table>\n",
       "</div>"
      ],
      "text/plain": [
       "   age     sex     bmi  children smoker     region      charges\n",
       "0   19  female  27.900         0    yes  southwest  16884.92400\n",
       "1   18    male  33.770         1     no  southeast   1725.55230\n",
       "2   28    male  33.000         3     no  southeast   4449.46200\n",
       "3   33    male  22.705         0     no  northwest  21984.47061\n",
       "4   32    male  28.880         0     no  northwest   3866.85520"
      ]
     },
     "execution_count": 7,
     "metadata": {},
     "output_type": "execute_result"
    }
   ],
   "source": [
    "#loading the insurance dataset\n",
    "df = pd.read_csv('Downloads/insurance.csv')\n",
    "\n",
    "#displaying the first few rows\n",
    "df.head()"
   ]
  },
  {
   "cell_type": "markdown",
   "id": "d4c5c1ae-fbe7-4ac4-87af-4356ba795d3c",
   "metadata": {},
   "source": [
    "Transforming the continuous age and bmi variables into meaningful categorical bins. This helps the model find patterns that relate to age ranges and BMI levels instead of treating these numbers as raw values. Using bins makes the data more meaningful and easier to interpret."
   ]
  },
  {
   "cell_type": "code",
   "execution_count": 10,
   "id": "bb1b00f0-670b-4398-b598-d6591850bc18",
   "metadata": {},
   "outputs": [
    {
     "data": {
      "text/html": [
       "<div>\n",
       "<style scoped>\n",
       "    .dataframe tbody tr th:only-of-type {\n",
       "        vertical-align: middle;\n",
       "    }\n",
       "\n",
       "    .dataframe tbody tr th {\n",
       "        vertical-align: top;\n",
       "    }\n",
       "\n",
       "    .dataframe thead th {\n",
       "        text-align: right;\n",
       "    }\n",
       "</style>\n",
       "<table border=\"1\" class=\"dataframe\">\n",
       "  <thead>\n",
       "    <tr style=\"text-align: right;\">\n",
       "      <th></th>\n",
       "      <th>age</th>\n",
       "      <th>age_group</th>\n",
       "      <th>bmi</th>\n",
       "      <th>bmi_category</th>\n",
       "    </tr>\n",
       "  </thead>\n",
       "  <tbody>\n",
       "    <tr>\n",
       "      <th>0</th>\n",
       "      <td>19</td>\n",
       "      <td>young_adult</td>\n",
       "      <td>27.900</td>\n",
       "      <td>overweight</td>\n",
       "    </tr>\n",
       "    <tr>\n",
       "      <th>1</th>\n",
       "      <td>18</td>\n",
       "      <td>young_adult</td>\n",
       "      <td>33.770</td>\n",
       "      <td>obese</td>\n",
       "    </tr>\n",
       "    <tr>\n",
       "      <th>2</th>\n",
       "      <td>28</td>\n",
       "      <td>adult</td>\n",
       "      <td>33.000</td>\n",
       "      <td>obese</td>\n",
       "    </tr>\n",
       "    <tr>\n",
       "      <th>3</th>\n",
       "      <td>33</td>\n",
       "      <td>adult</td>\n",
       "      <td>22.705</td>\n",
       "      <td>normal</td>\n",
       "    </tr>\n",
       "    <tr>\n",
       "      <th>4</th>\n",
       "      <td>32</td>\n",
       "      <td>adult</td>\n",
       "      <td>28.880</td>\n",
       "      <td>overweight</td>\n",
       "    </tr>\n",
       "  </tbody>\n",
       "</table>\n",
       "</div>"
      ],
      "text/plain": [
       "   age    age_group     bmi bmi_category\n",
       "0   19  young_adult  27.900   overweight\n",
       "1   18  young_adult  33.770        obese\n",
       "2   28        adult  33.000        obese\n",
       "3   33        adult  22.705       normal\n",
       "4   32        adult  28.880   overweight"
      ]
     },
     "execution_count": 10,
     "metadata": {},
     "output_type": "execute_result"
    }
   ],
   "source": [
    "#creating age bins\n",
    "df['age_group'] = pd.cut(df['age'],\n",
    "                         bins=[17, 25, 35, 50, 65],\n",
    "                         labels=['young_adult', 'adult', 'middle_aged', 'senior'])\n",
    "\n",
    "#creating bmi bins based on cdc categories\n",
    "df['bmi_category'] = pd.cut(df['bmi'],\n",
    "                            bins=[0, 18.5, 24.9, 29.9, 100],\n",
    "                            labels=['underweight', 'normal', 'overweight', 'obese'])\n",
    "\n",
    "#displaying age and bmi with new categories\n",
    "df[['age', 'age_group', 'bmi', 'bmi_category']].head()"
   ]
  },
  {
   "cell_type": "markdown",
   "id": "137b5d42-b915-4a90-952d-b034da03e7d2",
   "metadata": {},
   "source": [
    "Converting all the text-based columns, like sex, smoker, region, age group, and BMI category, into numeric columns using one-hot encoding. This step makes sure the model can read these categories as numbers. This also prevents any category from being seen as greater or less than another."
   ]
  },
  {
   "cell_type": "code",
   "execution_count": 13,
   "id": "ae13ae94-8653-4967-81ab-c6f60a016870",
   "metadata": {},
   "outputs": [
    {
     "name": "stdout",
     "output_type": "stream",
     "text": [
      "new dataframe shape: (1338, 15)\n",
      "encoded feature columns:\n",
      "['age', 'bmi', 'children', 'charges', 'sex_male', 'smoker_yes', 'region_northwest', 'region_southeast', 'region_southwest', 'age_group_adult', 'age_group_middle_aged', 'age_group_senior', 'bmi_category_normal', 'bmi_category_overweight', 'bmi_category_obese']\n"
     ]
    }
   ],
   "source": [
    "#one-hot encoding for categorical columns\n",
    "df_encoded = pd.get_dummies(df,\n",
    "                            columns=['sex', 'smoker', 'region', 'age_group', 'bmi_category'],\n",
    "                            drop_first=True)\n",
    "\n",
    "#displaying the new shape and column names\n",
    "print(\"new dataframe shape:\", df_encoded.shape)\n",
    "print(\"encoded feature columns:\")\n",
    "print(df_encoded.columns.tolist())"
   ]
  },
  {
   "cell_type": "markdown",
   "id": "0360f6a7-fdfa-473d-85e9-25f75d10c494",
   "metadata": {},
   "source": [
    "Applying min-max scaling to age, bmi, and charges to bring their values into a 0–1 range for algorithms that are sensitive to feature scales. Normalizing these columns keeps them on the same scale so no single number can unfairly influence the model. This is important for algorithms that are sensitive to feature size."
   ]
  },
  {
   "cell_type": "code",
   "execution_count": 16,
   "id": "6d4925cb-5f19-45e2-90df-3a73ac40c460",
   "metadata": {},
   "outputs": [
    {
     "data": {
      "text/html": [
       "<div>\n",
       "<style scoped>\n",
       "    .dataframe tbody tr th:only-of-type {\n",
       "        vertical-align: middle;\n",
       "    }\n",
       "\n",
       "    .dataframe tbody tr th {\n",
       "        vertical-align: top;\n",
       "    }\n",
       "\n",
       "    .dataframe thead th {\n",
       "        text-align: right;\n",
       "    }\n",
       "</style>\n",
       "<table border=\"1\" class=\"dataframe\">\n",
       "  <thead>\n",
       "    <tr style=\"text-align: right;\">\n",
       "      <th></th>\n",
       "      <th>age</th>\n",
       "      <th>bmi</th>\n",
       "      <th>charges</th>\n",
       "    </tr>\n",
       "  </thead>\n",
       "  <tbody>\n",
       "    <tr>\n",
       "      <th>0</th>\n",
       "      <td>0.021739</td>\n",
       "      <td>0.321227</td>\n",
       "      <td>0.251611</td>\n",
       "    </tr>\n",
       "    <tr>\n",
       "      <th>1</th>\n",
       "      <td>0.000000</td>\n",
       "      <td>0.479150</td>\n",
       "      <td>0.009636</td>\n",
       "    </tr>\n",
       "    <tr>\n",
       "      <th>2</th>\n",
       "      <td>0.217391</td>\n",
       "      <td>0.458434</td>\n",
       "      <td>0.053115</td>\n",
       "    </tr>\n",
       "    <tr>\n",
       "      <th>3</th>\n",
       "      <td>0.326087</td>\n",
       "      <td>0.181464</td>\n",
       "      <td>0.333010</td>\n",
       "    </tr>\n",
       "    <tr>\n",
       "      <th>4</th>\n",
       "      <td>0.304348</td>\n",
       "      <td>0.347592</td>\n",
       "      <td>0.043816</td>\n",
       "    </tr>\n",
       "  </tbody>\n",
       "</table>\n",
       "</div>"
      ],
      "text/plain": [
       "        age       bmi   charges\n",
       "0  0.021739  0.321227  0.251611\n",
       "1  0.000000  0.479150  0.009636\n",
       "2  0.217391  0.458434  0.053115\n",
       "3  0.326087  0.181464  0.333010\n",
       "4  0.304348  0.347592  0.043816"
      ]
     },
     "execution_count": 16,
     "metadata": {},
     "output_type": "execute_result"
    }
   ],
   "source": [
    "#initializing min-max scaler\n",
    "scaler = MinMaxScaler()\n",
    "\n",
    "#normalizing selected numeric features\n",
    "df_encoded[['age', 'bmi', 'charges']] = scaler.fit_transform(df_encoded[['age', 'bmi', 'charges']])\n",
    "\n",
    "#displaying normalized values\n",
    "df_encoded[['age', 'bmi', 'charges']].head()"
   ]
  },
  {
   "cell_type": "markdown",
   "id": "a07d4cc1-1b7d-4546-bc51-f88ca88aa8aa",
   "metadata": {},
   "source": [
    "Checking if any new missing values were introduced during feature engineering to make sure I did not accidentally create gaps in the data before using it for modeling. Making sure there are no missing values helps avoid errors later."
   ]
  },
  {
   "cell_type": "code",
   "execution_count": 19,
   "id": "1240df0b-7de6-4e47-97d1-5a54ae371498",
   "metadata": {},
   "outputs": [
    {
     "name": "stdout",
     "output_type": "stream",
     "text": [
      "missing values after feature engineering:\n",
      "age                        0\n",
      "bmi                        0\n",
      "children                   0\n",
      "charges                    0\n",
      "sex_male                   0\n",
      "smoker_yes                 0\n",
      "region_northwest           0\n",
      "region_southeast           0\n",
      "region_southwest           0\n",
      "age_group_adult            0\n",
      "age_group_middle_aged      0\n",
      "age_group_senior           0\n",
      "bmi_category_normal        0\n",
      "bmi_category_overweight    0\n",
      "bmi_category_obese         0\n",
      "dtype: int64\n"
     ]
    }
   ],
   "source": [
    "#checking for missing values in the final dataset\n",
    "print(\"missing values after feature engineering:\")\n",
    "print(df_encoded.isnull().sum())"
   ]
  },
  {
   "cell_type": "markdown",
   "id": "2cdfd7e0-3024-480f-b429-0e094bc9905f",
   "metadata": {},
   "source": [
    "Saving the cleaned dataset."
   ]
  },
  {
   "cell_type": "code",
   "execution_count": 22,
   "id": "ca1e4378-151e-4034-9130-6422e74cf6e5",
   "metadata": {},
   "outputs": [
    {
     "name": "stdout",
     "output_type": "stream",
     "text": [
      "Cleaned dataset saved to Downloads as 'insurance_cleaned.csv'\n"
     ]
    }
   ],
   "source": [
    "#saving the cleaned and encoded dataframe to your Downloads folder\n",
    "df_encoded.to_csv('Downloads/insurance_cleaned.csv', index=False)\n",
    "print(\"Cleaned dataset saved to Downloads as 'insurance_cleaned.csv'\")"
   ]
  },
  {
   "cell_type": "markdown",
   "id": "c46484d4-57dd-4492-a222-408959792a12",
   "metadata": {},
   "source": [
    "Brief Summary:\n",
    "\n",
    "In the first steps, I load my insurance dataset, look at the first few rows, and create new categories to make the data more useful. I group ages into ranges like young adult, adult, middle aged, and senior, and split BMI into groups like underweight, normal, overweight, and obese. Then I turn all the text columns, including sex, smoker, region, and the new age and BMI groups, into dummy variables so the model can read them. I use MinMaxScaler to scale age, BMI, and charges to keep them on the same range. After this, I check for missing values and see there are none. These steps give me a clean dataset that is ready for modeling."
   ]
  },
  {
   "cell_type": "code",
   "execution_count": null,
   "id": "e20ec549-9d84-4d7e-aae8-79f521ee4e7c",
   "metadata": {},
   "outputs": [],
   "source": []
  }
 ],
 "metadata": {
  "kernelspec": {
   "display_name": "Python [conda env:base] *",
   "language": "python",
   "name": "conda-base-py"
  },
  "language_info": {
   "codemirror_mode": {
    "name": "ipython",
    "version": 3
   },
   "file_extension": ".py",
   "mimetype": "text/x-python",
   "name": "python",
   "nbconvert_exporter": "python",
   "pygments_lexer": "ipython3",
   "version": "3.12.2"
  }
 },
 "nbformat": 4,
 "nbformat_minor": 5
}
